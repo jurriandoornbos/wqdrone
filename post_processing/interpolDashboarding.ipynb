{
 "cells": [
  {
   "cell_type": "code",
   "execution_count": 2,
   "metadata": {},
   "outputs": [],
   "source": [
    "#SCP DATA import from db3 file created w/ ROS2 bag\n",
    "import os\n",
    "import pandas as pd\n",
    "import sqlite3\n",
    "\n",
    "def load_data(path):\n",
    "    con = sqlite3.connect(path)\n",
    "    return pd.read_sql_query(\"SELECT * from messages\", con)\n",
    "\n",
    "rosbagname = \"my_test_bag\"\n",
    "\n",
    "db_loc = os.path.join(os.path.expanduser('~'), rosbagname,rosbagname+\"_0.db3\")\n",
    "\n",
    "df = load_data(db_loc)\n",
    "\n",
    "#Regex method to convert all the byte strings to data\n",
    "df[\"decode\"] = df[\"data\"].str.decode(\"utf-8\")\n",
    "#regex string to pick all the numbers after \"Sensor: \" creating a new dataframe\n",
    "df2 = df[\"decode\"].str.extract(\"Temperature:\\s([\\-0-9\\.]+).*TDS:\\s([\\-0-9\\.]+).*Voltage:\\s([\\-0-9\\.]+).*Acidity:\\s([\\-0-9\\.]+)\",expand = True)\n",
    "#rename the columns\n",
    "df2.columns = [\"temp\",\"tds\",\"turb\",\"ph\"]\n",
    "#convert to floats\n",
    "df2 = df2[df2.columns].apply(pd.to_numeric)\n",
    "#add the timestamp list\n",
    "df2[\"timestamp\"] = df[\"timestamp\"]\n",
    "\n"
   ]
  },
  {
   "cell_type": "code",
   "execution_count": 4,
   "metadata": {},
   "outputs": [],
   "source": [
    "os.environ[\"GDAL_DATA\"] = '/home/pop/.conda/envs/interpol/lib/python3.8/site-packages/rasterio/gdal_data'"
   ]
  },
  {
   "cell_type": "code",
   "execution_count": 3,
   "metadata": {},
   "outputs": [],
   "source": [
    "import numpy as np\n",
    "import geopandas as gpd\n",
    "\n",
    "#Create fake Lat and Long data\n",
    "df2[\"lat\"] = (np.random.standard_normal(len(df2))/1000)+52\n",
    "df2[\"lon\"] = (np.random.standard_normal(len(df2))/1000)+5\n",
    "\n",
    "#create some fake test data as well\n",
    "df2[\"test\"] = np.random.rand(len(df2))\n",
    "\n",
    "#create gdf to convert WGS84 to UTM\n",
    "gdf = gpd.GeoDataFrame(df2, geometry=gpd.points_from_xy(df2.lon, df2.lat), crs = \"EPSG:4326\")\n"
   ]
  },
  {
   "cell_type": "code",
   "execution_count": 20,
   "metadata": {},
   "outputs": [],
   "source": [
    "#The simplest interpolation function, returns the data and the linspaces\n",
    "\n",
    "def interkrige(lon,lat,var,res):\n",
    "    from pykrige.ok import OrdinaryKriging\n",
    "    import numpy as np\n",
    "\n",
    "    #GOtta do smth about these lines to create a bit larger of a grid\n",
    "    x = np.linspace(start = min(lon),stop = max(lon), num = res,retstep = True)\n",
    "    y = np.linspace(start = min(lat), stop = max(lat), num = res,retstep = True)\n",
    "    \n",
    "    gridx = np.linspace(start = min(lon)-x[1], stop = max(lon)+x[1],num = res)\n",
    "    gridy = np.linspace(start = min(lat)-y[1], stop = max(lat)+y[1],num = res)\n",
    "\n",
    "    z,SS = OrdinaryKriging(x = lon,\n",
    "                           y = lat, \n",
    "                           z = var, \n",
    "                           variogram_model = \"linear\",\n",
    "                           coordinates_type = \"geographic\").execute(\"grid\",xpoints = gridx, ypoints = gridy)\n",
    "    return (z,SS,gridx,gridy)\n"
   ]
  },
  {
   "cell_type": "code",
   "execution_count": 21,
   "metadata": {},
   "outputs": [],
   "source": [
    "#run it\n",
    "tds_z, tds_SS,x,y = interkrige(df2[\"lon\"], df2[\"lat\"], df2[\"test\"], res=100)"
   ]
  },
  {
   "cell_type": "code",
   "execution_count": null,
   "metadata": {},
   "outputs": [],
   "source": [
    "## Transform it to rasterdata! via rasterio\n",
    "import rasterio\n",
    "\n",
    "#projstrings\n",
    "\n",
    "rdnew = \"+proj=sterea +lat_0=52.15616055555555 +lon_0=5.38763888888889 +k=0.9999079 +x_0=155000 +y_0=463000 +ellps=bessel +towgs84=565.417,50.3319,465.552,-0.398957,0.343988,-1.8774,4.0725 +units=m +no_defs \",\n",
    "\n",
    "wgs84 = \"+proj=longlat +datum=WGS84 +no_defs\"\n",
    "\n",
    "transform = rasterio.transform.guard_transform(rasterio.transform.from_bounds(min(x), min(y), max(x), max(y), 100,100))\n",
    "\n",
    "new_dataset = rasterio.open(\n",
    "    \"./data/test.tif\",\n",
    "    \"w\",\n",
    "    driver = \"GTiff\",\n",
    "    height = 100,\n",
    "    width = 100,\n",
    "    count = 1,\n",
    "    dtype =  tds_z.dtype,\n",
    "    crs= wgs84,\n",
    "    transform = transform\n",
    ")\n",
    "\n",
    "new_dataset.write(tds_z,1)\n",
    "new_dataset.close()"
   ]
  },
  {
   "cell_type": "code",
   "execution_count": 40,
   "metadata": {},
   "outputs": [
    {
     "data": {
      "text/plain": [
       "<folium.raster_layers.ImageOverlay at 0x7f69cd9fd1c0>"
      ]
     },
     "execution_count": 40,
     "metadata": {},
     "output_type": "execute_result"
    }
   ],
   "source": [
    "import folium\n",
    "import numpy as np\n",
    "import rasterio \n",
    "import geopandas\n",
    "import matplotlib\n",
    "\n",
    "\n",
    "r =  rasterio.open(\"./data/test.tif\")\n",
    "data = r.read(1)\n",
    "bounds = r.bounds\n",
    "\n",
    "\n",
    "#Reshape data to form min = 0 and max =1\n",
    "image = (data - np.min(data))/np.ptp(data)\n",
    "\n",
    "\n",
    "#set up base map\n",
    "my_coords = (np.mean(gdf.lat),np.mean(gdf.lon))\n",
    "m = folium.Map(location = my_coords, zoom_start =17)\n",
    "\n",
    "#create points from the GPS input data\n",
    "latitudes = gdf.lat\n",
    "longitudes = gdf.lon\n",
    "\n",
    "for lat, lng in zip(latitudes, longitudes):\n",
    "    folium.Marker(\n",
    "      location = [lat, lng], \n",
    "      icon = folium.Icon(color='red', icon='info-sign')\n",
    "     ).add_to(m) \n",
    "\n",
    "#show the interpolated inputs\n",
    "folium.raster_layers.ImageOverlay(\n",
    "    image=image,\n",
    "    bounds=[[bounds.bottom, bounds.left], [bounds.top, bounds.right]],\n",
    "    opacity=1,\n",
    "    origin='lower',\n",
    "    colormap = matplotlib.pyplot.cm.Greens\n",
    ").add_to(m)\n",
    "\n",
    "m.save(os.path.join('html_folium', 'test.html'))"
   ]
  }
 ],
 "metadata": {
  "kernelspec": {
   "display_name": "Python 3",
   "language": "python",
   "name": "python3"
  },
  "language_info": {
   "codemirror_mode": {
    "name": "ipython",
    "version": 3
   },
   "file_extension": ".py",
   "mimetype": "text/x-python",
   "name": "python",
   "nbconvert_exporter": "python",
   "pygments_lexer": "ipython3",
   "version": "3.8.2"
  }
 },
 "nbformat": 4,
 "nbformat_minor": 4
}
